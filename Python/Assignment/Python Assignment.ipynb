{
 "cells": [
  {
   "cell_type": "markdown",
   "id": "16f63410",
   "metadata": {},
   "source": [
    "**Module 2: Introduction to Python**"
   ]
  },
  {
   "cell_type": "markdown",
   "id": "b80e22d6",
   "metadata": {},
   "source": [
    "**Practical Tasks**"
   ]
  },
  {
   "cell_type": "markdown",
   "id": "a4ac4aac",
   "metadata": {},
   "source": [
    "**1. Write a python program to sum of the first n positive integers.**"
   ]
  },
  {
   "cell_type": "markdown",
   "id": "a122f59c",
   "metadata": {},
   "source": [
    "Ex: Input Number = 5\n",
    "\n",
    "Ans: 1+2+3+4+5 = 15"
   ]
  },
  {
   "cell_type": "code",
   "execution_count": 2,
   "id": "ee5f4acd",
   "metadata": {},
   "outputs": [
    {
     "name": "stdout",
     "output_type": "stream",
     "text": [
      "sum is 15\n"
     ]
    }
   ],
   "source": [
    "num=int(input(\"Enter a number:\"))\n",
    "sum=0\n",
    "for i in range(1,num+1):\n",
    "    sum+=i\n",
    "print(f\"sum is {sum}\")"
   ]
  },
  {
   "cell_type": "markdown",
   "id": "c6b3ec5e",
   "metadata": {},
   "source": [
    "**2. Write a Python program to count occurrences of a substring in a string.**"
   ]
  },
  {
   "cell_type": "code",
   "execution_count": 2,
   "id": "f4fe596a",
   "metadata": {},
   "outputs": [
    {
     "name": "stdout",
     "output_type": "stream",
     "text": [
      "In the given string 'Milind Vijaybhai Thanki', the substring 'i' occurs 5 times.\n"
     ]
    }
   ],
   "source": [
    "string = input(\"Give a string: \")\n",
    "sub_string = input(\"Give a substring to find occurrences: \")\n",
    "occurrences = string.count(sub_string)\n",
    "print(f\"In the given string '{string}', the substring '{sub_string}' occurs {occurrences} times.\")"
   ]
  },
  {
   "cell_type": "markdown",
   "id": "48da10cb",
   "metadata": {},
   "source": [
    "**3. Write a Python program to count the occurrences of each word in a given sentence.**"
   ]
  },
  {
   "cell_type": "code",
   "execution_count": null,
   "id": "935841f0",
   "metadata": {},
   "outputs": [],
   "source": [
    "sentence = input(\"Enter a Sentence for Word Count: \").lower() #convert ti lower case to make it case insensitive\n",
    "words = sentence.split() #split the sentence into words\n",
    "word_counts = {}\n",
    "for word in words:\n",
    "    word_counts[word] = word_counts.get(word, 0) + 1 #count occurrences of each word\n",
    "print(word_counts)"
   ]
  },
  {
   "cell_type": "markdown",
   "id": "75a85904",
   "metadata": {},
   "source": [
    "**4. Write a Python program to get a single string from two given strings, separated by a space and swap the first two characters of each string.**"
   ]
  },
  {
   "cell_type": "code",
   "execution_count": null,
   "id": "aa1c9a24",
   "metadata": {},
   "outputs": [],
   "source": [
    "str1 = input(\"enter your first string : \")\n",
    "str2 = input(\"enter your second string : \")\n",
    "\n",
    "# Swap the first two characters of each string\n",
    "swapped_str1 = str2[0:2] + str1[2:]\n",
    "swapped_str2 = str1[0:2] + str2[2:]\n",
    "\n",
    "# Combine the two new strings with a space in between\n",
    "result_str = swapped_str1 + \" \" + swapped_str2\n",
    "\n",
    "print(result_str)"
   ]
  },
  {
   "cell_type": "markdown",
   "id": "6ddc3eb5",
   "metadata": {},
   "source": [
    "**5. Write a Python program to add 'ing' at the end of a given string (length should be at least 3). If the given string already ends with 'ing' then add 'ly' instead. If the string length of the given string is less than 3, leave it unchanged.**"
   ]
  },
  {
   "cell_type": "code",
   "execution_count": null,
   "id": "01e283ec",
   "metadata": {},
   "outputs": [],
   "source": [
    "s = input(\"Enter the string: \")\n",
    "\n",
    "if len(s) >= 3:\n",
    "    if s[-3:] == \"ing\":\n",
    "        s = s[:-3] + \"ly\"\n",
    "    else:\n",
    "        s += \"ing\"\n",
    "else:\n",
    "    s = s\n",
    "\n",
    "print(s)"
   ]
  },
  {
   "cell_type": "markdown",
   "id": "a2753cd3",
   "metadata": {},
   "source": [
    "**6. Write a Python program to find the first appearance of the substring 'not' and 'poor' from a given string, if 'not' follows the 'poor', replace the whole 'not'...'poor' substring with 'good'. Return the resulting string.**"
   ]
  },
  {
   "cell_type": "code",
   "execution_count": null,
   "id": "644f3509",
   "metadata": {},
   "outputs": [],
   "source": [
    "s = input(\"Enter the string: \")\n",
    "li = s.split(\" \")\n",
    "is_not_poor = False\n",
    "first_index = -1\n",
    "last_index = -1\n",
    "\n",
    "try:\n",
    "    first_index = li.index('not')\n",
    "    last_index = li.index('poor')\n",
    "    if first_index < last_index:\n",
    "        is_not_poor = True\n",
    "except ValueError:\n",
    "    is_not_poor = False\n",
    "\n",
    "if is_not_poor:\n",
    "    s = s.replace(\"not poor\", \"good\")\n",
    "\n",
    "print(s)"
   ]
  },
  {
   "cell_type": "markdown",
   "id": "0a2665e9",
   "metadata": {},
   "source": [
    "**7. Program to find Greatest Common Divisor of two numbers.**"
   ]
  },
  {
   "cell_type": "code",
   "execution_count": null,
   "id": "f67abd15",
   "metadata": {},
   "outputs": [],
   "source": [
    "num1 = int(input(\"Enter your first number: \"))\n",
    "num2 = int(input(\"Enter your second number: \"))\n",
    "\n",
    "l1 = []\n",
    "l2 = []\n",
    "for i in range(1, num1 + 1):\n",
    "    if num1 % i == 0:\n",
    "        l1.append(i)\n",
    "\n",
    "for i in range(1, num2 + 1):\n",
    "    if num2 % i == 0:\n",
    "        l2.append(i)\n",
    "\n",
    "common = []\n",
    "for val in l1:\n",
    "    if val in l2:\n",
    "        common.append(val)\n",
    "\n",
    "print(f\"The greatest common divisor of {num1} and {num2} is {max(common)}\")"
   ]
  },
  {
   "cell_type": "markdown",
   "id": "2113e1a8",
   "metadata": {},
   "source": [
    "**8. Write a Python program to check whether a list contains a sublist.**"
   ]
  },
  {
   "cell_type": "code",
   "execution_count": null,
   "id": "c112b3ba",
   "metadata": {},
   "outputs": [],
   "source": [
    "main_list = [1, 2, 3, 4, 5, 6]\n",
    "sublist = [1, 2, 3]\n",
    "\n",
    "def check_sublist(main_list, sublist):\n",
    "    for i in range(len(main_list) - len(sublist) + 1):\n",
    "        if main_list[i:i+len(sublist)] == sublist:\n",
    "            return True\n",
    "    return False\n",
    "\n",
    "if check_sublist(main_list, sublist):\n",
    "    print(\"This list contains the sublist.\")\n",
    "else:\n",
    "    print(\"This list does not contain the sublist.\")"
   ]
  },
  {
   "cell_type": "markdown",
   "id": "a37901f8",
   "metadata": {},
   "source": [
    "**9. Write a Python program to find the second smallest number in a list.**"
   ]
  },
  {
   "cell_type": "code",
   "execution_count": null,
   "id": "a38a8720",
   "metadata": {},
   "outputs": [],
   "source": [
    "numbers = input(\"Enter numbers separated by spaces: \").split() #take input from user and split into a list of strings\n",
    "numbers = sorted(list(set(map(float, numbers)))) #4 operations: convert to float, remove duplicates using set, convert back to list, sort the list\n",
    "if len(numbers) >= 2: #check if there are at least 2 unique numbers\n",
    "        print(f\"The second smallest number is: {numbers[1]}\") #the second smallest number will be at index 1\n",
    "else:\n",
    "    print(\"Not enough unique numbers.\") #if there are less than 2 unique numbers, tell the user not enough unique numbers."
   ]
  },
  {
   "cell_type": "markdown",
   "id": "5ac922ed",
   "metadata": {},
   "source": [
    "**10. Write a Python program to get unique values from a list.**"
   ]
  },
  {
   "cell_type": "code",
   "execution_count": null,
   "id": "5705f81b",
   "metadata": {},
   "outputs": [],
   "source": [
    "s = input(\"Enter the value of the list by giving a space in between: \")\n",
    "my_list = s.split(\" \")\n",
    "my_list = [int(i) for i in my_list]\n",
    "\n",
    "unique_list = list(set(my_list))\n",
    "print(\"After removing duplicates:\")\n",
    "print(unique_list)"
   ]
  },
  {
   "cell_type": "markdown",
   "id": "6632588a",
   "metadata": {},
   "source": [
    "**11. Write a Python program to unzip a list of tuples into individual lists.**"
   ]
  },
  {
   "cell_type": "code",
   "execution_count": null,
   "id": "e755504e",
   "metadata": {},
   "outputs": [],
   "source": [
    "l1 = [(1, \"a\", \"Milind\"), (2, \"b\", \"Vaidehi\"), (3, \"c\", \"Aaditya\")]\n",
    "l2 = list(zip(*l1))\n",
    "result = [list(item) for item in l2]\n",
    "print(result)"
   ]
  },
  {
   "cell_type": "markdown",
   "id": "9abaabae",
   "metadata": {},
   "source": [
    "**12. Write a Python program to convert a list of tuples into a dictionary.**"
   ]
  },
  {
   "cell_type": "code",
   "execution_count": null,
   "id": "32236dcb",
   "metadata": {},
   "outputs": [],
   "source": [
    "l1 = [(1, \"Milind\"), (2, \"Vaidehi\"), (3, \"Ayan\")]\n",
    "d = dict(l1)\n",
    "print(\"Dictionary:\", d)"
   ]
  },
  {
   "cell_type": "markdown",
   "id": "e7adab7a",
   "metadata": {},
   "source": [
    "**13. Write a Python program to sort a dictionary (ascending /descending) by value.**"
   ]
  },
  {
   "cell_type": "code",
   "execution_count": null,
   "id": "07765016",
   "metadata": {},
   "outputs": [],
   "source": [
    "dic = {\"ball\": 33, \"bat\": 5, \"stumps\": 10, \"players\": 11}\n",
    "sorted_list = sorted(dic.items(), key=lambda item: item[1])\n",
    "sorted_dict = dict(sorted_list)\n",
    "print(\"Sorted dictionary (ascending by value):\", sorted_dict)"
   ]
  },
  {
   "cell_type": "markdown",
   "id": "ed039776",
   "metadata": {},
   "source": [
    "**14. Write a Python program to find the highest 3 values in a dictionary.**"
   ]
  },
  {
   "cell_type": "code",
   "execution_count": null,
   "id": "ec29cebb",
   "metadata": {},
   "outputs": [],
   "source": [
    "dic = {\"ball\": 33, \"bat\": 5, \"stumps\": 10, \"players\": 11}\n",
    "sorted_list = sorted(dic.items(), key=lambda item: item[1])\n",
    "arr = [i[1] for i in sorted_list]\n",
    "print(\"The highest three values in this dictionary are:\", arr[-3:])"
   ]
  },
  {
   "cell_type": "markdown",
   "id": "b8a33e4d",
   "metadata": {},
   "source": [
    "**15. Given a number n, write a python program to make and print the list of Fibonacci series up to n.**"
   ]
  },
  {
   "cell_type": "code",
   "execution_count": null,
   "id": "fe232512",
   "metadata": {},
   "outputs": [],
   "source": [
    "num = int(input(\"Enter the number length of Fibonacci: \"))\n",
    "a, b = 0, 1\n",
    "fib_list = []\n",
    "for i in range(num):\n",
    "    fib_list.append(a)\n",
    "    a, b = b, a + b\n",
    "print(f\"First {num} numbers in the series: {fib_list}\")"
   ]
  },
  {
   "cell_type": "markdown",
   "id": "0c7473fd",
   "metadata": {},
   "source": [
    "**16. Counting the frequencies in a list using a dictionary in Python.**"
   ]
  },
  {
   "cell_type": "code",
   "execution_count": null,
   "id": "16277c9f",
   "metadata": {},
   "outputs": [],
   "source": [
    "l1 = [1, 1, 1, 5, 5, 3, 1, 3, 3, 1, 4, 4, 4, 2, 2, 2, 2]\n",
    "frequencies = {}\n",
    "\n",
    "for item in l1:\n",
    "    frequencies[item] = frequencies.get(item, 0) + 1\n",
    "\n",
    "print(frequencies)"
   ]
  },
  {
   "cell_type": "markdown",
   "id": "0b0439a7",
   "metadata": {},
   "source": [
    "**17. Write a python program using function to find the sum of odd series and even series.**"
   ]
  },
  {
   "cell_type": "code",
   "execution_count": null,
   "id": "5c6ccedf",
   "metadata": {},
   "outputs": [],
   "source": [
    "def factorial(n):\n",
    "    f = 1\n",
    "    for i in range(1, n + 1):\n",
    "        f = f * i\n",
    "    return f\n",
    "\n",
    "def odd_series(num):\n",
    "    sum = 0\n",
    "    for i in range(1, num + 1, 2):\n",
    "        sum += (i ** 2) / factorial(i)\n",
    "    return sum\n",
    "\n",
    "def even_series(num):\n",
    "    sum = 0\n",
    "    for i in range(2, num + 1, 2):\n",
    "        sum += (i ** 2) / factorial(i)\n",
    "    return sum\n",
    "\n",
    "num1 = int(input(\"Enter number till where you want the odd series: \"))\n",
    "num2 = int(input(\"Enter the number till where you want the even series: \"))\n",
    "\n",
    "print(f\"The sum of odd series till {num1} is {odd_series(num1)}\")\n",
    "print(f\"The sum of even series till {num2} is {even_series(num2)}\")"
   ]
  },
  {
   "cell_type": "markdown",
   "id": "b80747cb",
   "metadata": {},
   "source": [
    "**18. Python Program to Find Factorial of Number Using Recursion.**"
   ]
  },
  {
   "cell_type": "code",
   "execution_count": null,
   "id": "b198acf8",
   "metadata": {},
   "outputs": [],
   "source": [
    "def factorial(n):\n",
    "    if n == 0:\n",
    "        return 1\n",
    "    else:\n",
    "        return n * factorial(n - 1)\n",
    "\n",
    "num = int(input(\"Enter a non-negative number: \"))\n",
    "if num < 0:\n",
    "    print(\"Factorial is not defined for negative numbers.\")\n",
    "else:\n",
    "    print(f\"The factorial of {num} is {factorial(num)}\")"
   ]
  },
  {
   "cell_type": "markdown",
   "id": "e63dfe95",
   "metadata": {},
   "source": [
    "**19. Write a Python function that takes a list and returns a new list with unique elements of the first list.**"
   ]
  },
  {
   "cell_type": "code",
   "execution_count": null,
   "id": "6d6118e7",
   "metadata": {},
   "outputs": [],
   "source": [
    "def get_unique_elements(input_list):\n",
    "    return list(set(input_list))\n",
    "\n",
    "my_list = input(\"Enter list elements separated by spaces: \").split()\n",
    "print(\"Original list:\", my_list)\n",
    "unique_list = get_unique_elements(my_list)\n",
    "print(\"Unique list:\", unique_list)"
   ]
  },
  {
   "cell_type": "markdown",
   "id": "e6d72f61",
   "metadata": {},
   "source": [
    "**20. Mini project : Password Generator**"
   ]
  },
  {
   "cell_type": "code",
   "execution_count": null,
   "id": "6471123c",
   "metadata": {},
   "outputs": [],
   "source": [
    "import random\n",
    "import string\n",
    "\n",
    "class User:\n",
    "    def __init__(self, user_id, name, password):\n",
    "        self.user_id = user_id\n",
    "        self.name = name\n",
    "        self.password = password\n",
    "    \n",
    "    def get_details(self):\n",
    "        return (self.user_id, self.name, self.password)\n",
    "\n",
    "def generate_strong_password(user_input):\n",
    "    if len(user_input.split()) < 1:\n",
    "        raise ValueError(\"User input must contain at least one word.\")\n",
    "    \n",
    "    words = user_input.split()\n",
    "    chosen_words = random.sample(words, min(3, len(words)))\n",
    "    \n",
    "    password = \"\".join(chosen_words)\n",
    "    \n",
    "    # Add numbers\n",
    "    password += \"\".join(random.choices(string.digits, k=2))\n",
    "    \n",
    "    # Add special characters\n",
    "    special_chars = \"!@#$%^&*()_+-=[]{}|;:,.<>?\"\n",
    "    password += \"\".join(random.choices(special_chars, k=2))\n",
    "    \n",
    "    # Capitalize some letters\n",
    "    for _ in range(2):\n",
    "        rand_char = random.choice(password)\n",
    "        password = password.replace(rand_char, rand_char.upper(), 1)\n",
    "        \n",
    "    # Ensure password length is more than 8\n",
    "    while len(password) < 9:\n",
    "        password += random.choice(string.ascii_letters + string.digits + special_chars)\n",
    "        \n",
    "    return password\n",
    "\n",
    "try:\n",
    "    user_name = input(\"Enter your name: \")\n",
    "    user_id = input(\"Enter your user ID: \")\n",
    "    user_input_words = input(\"Enter a few words to generate a password: \")\n",
    "    \n",
    "    generated_password = generate_strong_password(user_input_words)\n",
    "    \n",
    "    new_user = User(user_id, user_name, generated_password)\n",
    "    print(\"\\n--- User Details ---\")\n",
    "    print(f\"Name: {new_user.name}\")\n",
    "    print(f\"User ID: {new_user.user_id}\")\n",
    "    print(f\"Generated Password: {new_user.password}\")\n",
    "    print(f\"Password length is {len(new_user.password)} characters.\")\n",
    "    \n",
    "except ValueError as e:\n",
    "    print(f\"Error: {e}\")"
   ]
  }
 ],
 "metadata": {
  "kernelspec": {
   "display_name": "Python 3",
   "language": "python",
   "name": "python3"
  },
  "language_info": {
   "codemirror_mode": {
    "name": "ipython",
    "version": 3
   },
   "file_extension": ".py",
   "mimetype": "text/x-python",
   "name": "python",
   "nbconvert_exporter": "python",
   "pygments_lexer": "ipython3",
   "version": "3.13.7"
  }
 },
 "nbformat": 4,
 "nbformat_minor": 5
}
